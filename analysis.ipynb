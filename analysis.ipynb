{
 "cells": [
  {
   "cell_type": "code",
   "execution_count": 1,
   "outputs": [],
   "source": [
    "import pandas as pd\n",
    "import numpy as np"
   ],
   "metadata": {
    "collapsed": false,
    "pycharm": {
     "name": "#%%\n"
    }
   }
  },
  {
   "cell_type": "code",
   "execution_count": 2,
   "outputs": [],
   "source": [
    "import config"
   ],
   "metadata": {
    "collapsed": false,
    "pycharm": {
     "name": "#%%\n"
    }
   }
  },
  {
   "cell_type": "code",
   "execution_count": 4,
   "outputs": [],
   "source": [
    "const = config.Constant"
   ],
   "metadata": {
    "collapsed": false,
    "pycharm": {
     "name": "#%%\n"
    }
   }
  },
  {
   "cell_type": "code",
   "execution_count": 6,
   "outputs": [
    {
     "data": {
      "text/plain": "         日期  淨尖峰供電能力(MW)  尖峰負載(MW)  備轉容量(MW)  備轉容量率(%)  工業用電(百萬度)  民生用電(百萬度)  \\\n0  20210101        28487     25720      2767     10.76    311.468    212.061   \n1  20210102        28421     25485      2936     11.52    304.952    207.625   \n2  20210103        28513     25476      3037     11.92    299.771    204.098   \n3  20210104        32766     29734      3032     10.20    342.273    233.036   \n4  20210105        33117     30050      3067     10.21    353.795    240.880   \n\n   核一#1(萬瓩)  核一#2(萬瓩)  核二#1(萬瓩)  ...   大觀二    明潭   碧海   立霧   龍澗   卓蘭   水里  \\\n0         0         0      98.4  ...  50.4  65.6  5.8  1.5  2.4  2.5  0.0   \n1         0         0      98.4  ...  44.1  71.5  5.5  1.4  3.0  3.0  0.0   \n2         0         0      98.4  ...  49.3  65.0  5.1  1.4  3.6  0.0  0.0   \n3         0         0      98.3  ...  46.2  64.6  5.0  1.4  3.0  2.5  0.0   \n4         0         0      98.4  ...  31.6  48.4  5.8  1.4  3.0  2.5  0.0   \n\n   其他小水力  風力發電  太陽能發電  \n0   14.9  30.6    0.0  \n1   18.5  37.0    0.1  \n2   12.3  48.0    0.0  \n3   14.9  40.3    0.0  \n4   21.8  63.0    0.0  \n\n[5 rows x 71 columns]",
      "text/html": "<div>\n<style scoped>\n    .dataframe tbody tr th:only-of-type {\n        vertical-align: middle;\n    }\n\n    .dataframe tbody tr th {\n        vertical-align: top;\n    }\n\n    .dataframe thead th {\n        text-align: right;\n    }\n</style>\n<table border=\"1\" class=\"dataframe\">\n  <thead>\n    <tr style=\"text-align: right;\">\n      <th></th>\n      <th>日期</th>\n      <th>淨尖峰供電能力(MW)</th>\n      <th>尖峰負載(MW)</th>\n      <th>備轉容量(MW)</th>\n      <th>備轉容量率(%)</th>\n      <th>工業用電(百萬度)</th>\n      <th>民生用電(百萬度)</th>\n      <th>核一#1(萬瓩)</th>\n      <th>核一#2(萬瓩)</th>\n      <th>核二#1(萬瓩)</th>\n      <th>...</th>\n      <th>大觀二</th>\n      <th>明潭</th>\n      <th>碧海</th>\n      <th>立霧</th>\n      <th>龍澗</th>\n      <th>卓蘭</th>\n      <th>水里</th>\n      <th>其他小水力</th>\n      <th>風力發電</th>\n      <th>太陽能發電</th>\n    </tr>\n  </thead>\n  <tbody>\n    <tr>\n      <th>0</th>\n      <td>20210101</td>\n      <td>28487</td>\n      <td>25720</td>\n      <td>2767</td>\n      <td>10.76</td>\n      <td>311.468</td>\n      <td>212.061</td>\n      <td>0</td>\n      <td>0</td>\n      <td>98.4</td>\n      <td>...</td>\n      <td>50.4</td>\n      <td>65.6</td>\n      <td>5.8</td>\n      <td>1.5</td>\n      <td>2.4</td>\n      <td>2.5</td>\n      <td>0.0</td>\n      <td>14.9</td>\n      <td>30.6</td>\n      <td>0.0</td>\n    </tr>\n    <tr>\n      <th>1</th>\n      <td>20210102</td>\n      <td>28421</td>\n      <td>25485</td>\n      <td>2936</td>\n      <td>11.52</td>\n      <td>304.952</td>\n      <td>207.625</td>\n      <td>0</td>\n      <td>0</td>\n      <td>98.4</td>\n      <td>...</td>\n      <td>44.1</td>\n      <td>71.5</td>\n      <td>5.5</td>\n      <td>1.4</td>\n      <td>3.0</td>\n      <td>3.0</td>\n      <td>0.0</td>\n      <td>18.5</td>\n      <td>37.0</td>\n      <td>0.1</td>\n    </tr>\n    <tr>\n      <th>2</th>\n      <td>20210103</td>\n      <td>28513</td>\n      <td>25476</td>\n      <td>3037</td>\n      <td>11.92</td>\n      <td>299.771</td>\n      <td>204.098</td>\n      <td>0</td>\n      <td>0</td>\n      <td>98.4</td>\n      <td>...</td>\n      <td>49.3</td>\n      <td>65.0</td>\n      <td>5.1</td>\n      <td>1.4</td>\n      <td>3.6</td>\n      <td>0.0</td>\n      <td>0.0</td>\n      <td>12.3</td>\n      <td>48.0</td>\n      <td>0.0</td>\n    </tr>\n    <tr>\n      <th>3</th>\n      <td>20210104</td>\n      <td>32766</td>\n      <td>29734</td>\n      <td>3032</td>\n      <td>10.20</td>\n      <td>342.273</td>\n      <td>233.036</td>\n      <td>0</td>\n      <td>0</td>\n      <td>98.3</td>\n      <td>...</td>\n      <td>46.2</td>\n      <td>64.6</td>\n      <td>5.0</td>\n      <td>1.4</td>\n      <td>3.0</td>\n      <td>2.5</td>\n      <td>0.0</td>\n      <td>14.9</td>\n      <td>40.3</td>\n      <td>0.0</td>\n    </tr>\n    <tr>\n      <th>4</th>\n      <td>20210105</td>\n      <td>33117</td>\n      <td>30050</td>\n      <td>3067</td>\n      <td>10.21</td>\n      <td>353.795</td>\n      <td>240.880</td>\n      <td>0</td>\n      <td>0</td>\n      <td>98.4</td>\n      <td>...</td>\n      <td>31.6</td>\n      <td>48.4</td>\n      <td>5.8</td>\n      <td>1.4</td>\n      <td>3.0</td>\n      <td>2.5</td>\n      <td>0.0</td>\n      <td>21.8</td>\n      <td>63.0</td>\n      <td>0.0</td>\n    </tr>\n  </tbody>\n</table>\n<p>5 rows × 71 columns</p>\n</div>"
     },
     "execution_count": 6,
     "metadata": {},
     "output_type": "execute_result"
    }
   ],
   "source": [
    "sd_df = pd.read_csv(const.SUPPLY_DEMAND_ELECTRICITY_FILE)\n",
    "sd_df.head()"
   ],
   "metadata": {
    "collapsed": false,
    "pycharm": {
     "name": "#%%\n"
    }
   }
  },
  {
   "cell_type": "code",
   "execution_count": 7,
   "outputs": [
    {
     "data": {
      "text/plain": "           日期  備轉容量(萬瓩)  備轉容量率(%)\n0  2022/01/01     334.5     13.04\n1  2022/01/02     364.1     14.05\n2  2022/01/03     318.4     10.62\n3  2022/01/04     262.0      8.64\n4  2022/01/05     251.2      8.25",
      "text/html": "<div>\n<style scoped>\n    .dataframe tbody tr th:only-of-type {\n        vertical-align: middle;\n    }\n\n    .dataframe tbody tr th {\n        vertical-align: top;\n    }\n\n    .dataframe thead th {\n        text-align: right;\n    }\n</style>\n<table border=\"1\" class=\"dataframe\">\n  <thead>\n    <tr style=\"text-align: right;\">\n      <th></th>\n      <th>日期</th>\n      <th>備轉容量(萬瓩)</th>\n      <th>備轉容量率(%)</th>\n    </tr>\n  </thead>\n  <tbody>\n    <tr>\n      <th>0</th>\n      <td>2022/01/01</td>\n      <td>334.5</td>\n      <td>13.04</td>\n    </tr>\n    <tr>\n      <th>1</th>\n      <td>2022/01/02</td>\n      <td>364.1</td>\n      <td>14.05</td>\n    </tr>\n    <tr>\n      <th>2</th>\n      <td>2022/01/03</td>\n      <td>318.4</td>\n      <td>10.62</td>\n    </tr>\n    <tr>\n      <th>3</th>\n      <td>2022/01/04</td>\n      <td>262.0</td>\n      <td>8.64</td>\n    </tr>\n    <tr>\n      <th>4</th>\n      <td>2022/01/05</td>\n      <td>251.2</td>\n      <td>8.25</td>\n    </tr>\n  </tbody>\n</table>\n</div>"
     },
     "execution_count": 7,
     "metadata": {},
     "output_type": "execute_result"
    }
   ],
   "source": [
    "rm_df = pd.read_csv(const.RESERVE_MARGIN)\n",
    "rm_df.head()"
   ],
   "metadata": {
    "collapsed": false,
    "pycharm": {
     "name": "#%%\n"
    }
   }
  },
  {
   "cell_type": "code",
   "execution_count": null,
   "outputs": [],
   "source": [],
   "metadata": {
    "collapsed": false,
    "pycharm": {
     "name": "#%%\n"
    }
   }
  }
 ],
 "metadata": {
  "kernelspec": {
   "display_name": "Python 3",
   "language": "python",
   "name": "python3"
  },
  "language_info": {
   "codemirror_mode": {
    "name": "ipython",
    "version": 2
   },
   "file_extension": ".py",
   "mimetype": "text/x-python",
   "name": "python",
   "nbconvert_exporter": "python",
   "pygments_lexer": "ipython2",
   "version": "2.7.6"
  }
 },
 "nbformat": 4,
 "nbformat_minor": 0
}